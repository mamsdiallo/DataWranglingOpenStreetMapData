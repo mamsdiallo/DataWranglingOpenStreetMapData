{
 "cells": [
  {
   "cell_type": "markdown",
   "metadata": {},
   "source": [
    "# CODING FOR ANALYSING CSV FILES"
   ]
  },
  {
   "cell_type": "markdown",
   "metadata": {},
   "source": [
    "## SETUP"
   ]
  },
  {
   "cell_type": "code",
   "execution_count": 1,
   "metadata": {
    "collapsed": true
   },
   "outputs": [],
   "source": [
    "# Required Libraries\n",
    "import numpy as np\n",
    "import pandas as pd\n",
    "import matplotlib.pyplot as plt\n",
    "import seaborn as sns\n",
    "import string"
   ]
  },
  {
   "cell_type": "code",
   "execution_count": 2,
   "metadata": {
    "collapsed": true
   },
   "outputs": [],
   "source": [
    "# Settings\n",
    "sns.set_style('whitegrid')\n",
    "# Make static images plots embedded in the notebook\n",
    "%matplotlib inline"
   ]
  },
  {
   "cell_type": "code",
   "execution_count": 3,
   "metadata": {
    "collapsed": true
   },
   "outputs": [],
   "source": [
    "# Get the Data and create the data frame\n",
    "path = './'\n",
    "filename1 = 'nodes.csv'\n",
    "nodes = pd.read_csv(path+filename1)\n",
    "filename2 = 'nodes_tags.csv'\n",
    "nodes_tags = pd.read_csv(path+filename2)\n",
    "filename3 = 'ways.csv'\n",
    "ways = pd.read_csv(path+filename3)\n",
    "filename4 = 'ways_nodes.csv'\n",
    "ways_nodes = pd.read_csv(path+filename4)\n",
    "filename5 = 'ways_tags.csv'\n",
    "ways_tags = pd.read_csv(path+filename5)"
   ]
  },
  {
   "cell_type": "markdown",
   "metadata": {},
   "source": [
    "## Data Summary"
   ]
  },
  {
   "cell_type": "code",
   "execution_count": 4,
   "metadata": {
    "collapsed": false,
    "scrolled": true
   },
   "outputs": [
    {
     "data": {
      "text/html": [
       "<div>\n",
       "<table border=\"1\" class=\"dataframe\">\n",
       "  <thead>\n",
       "    <tr style=\"text-align: right;\">\n",
       "      <th></th>\n",
       "      <th>id</th>\n",
       "      <th>lat</th>\n",
       "      <th>lon</th>\n",
       "      <th>user</th>\n",
       "      <th>uid</th>\n",
       "      <th>version</th>\n",
       "      <th>changeset</th>\n",
       "      <th>timestamp</th>\n",
       "    </tr>\n",
       "  </thead>\n",
       "  <tbody>\n",
       "    <tr>\n",
       "      <th>0</th>\n",
       "      <td>644169</td>\n",
       "      <td>48.904907</td>\n",
       "      <td>2.195935</td>\n",
       "      <td>osmmaker</td>\n",
       "      <td>210173</td>\n",
       "      <td>3</td>\n",
       "      <td>26474158</td>\n",
       "      <td>2014-11-01T02:01:56Z</td>\n",
       "    </tr>\n",
       "    <tr>\n",
       "      <th>1</th>\n",
       "      <td>644170</td>\n",
       "      <td>48.906158</td>\n",
       "      <td>2.194022</td>\n",
       "      <td>osmmaker</td>\n",
       "      <td>210173</td>\n",
       "      <td>4</td>\n",
       "      <td>26474158</td>\n",
       "      <td>2014-11-01T02:01:56Z</td>\n",
       "    </tr>\n",
       "    <tr>\n",
       "      <th>2</th>\n",
       "      <td>644171</td>\n",
       "      <td>48.907185</td>\n",
       "      <td>2.192674</td>\n",
       "      <td>jmorais</td>\n",
       "      <td>5404</td>\n",
       "      <td>1</td>\n",
       "      <td>191925</td>\n",
       "      <td>2007-01-11T18:35:55Z</td>\n",
       "    </tr>\n",
       "    <tr>\n",
       "      <th>3</th>\n",
       "      <td>644172</td>\n",
       "      <td>48.909258</td>\n",
       "      <td>2.189542</td>\n",
       "      <td>Marcussacapuces91</td>\n",
       "      <td>37548</td>\n",
       "      <td>2</td>\n",
       "      <td>313659</td>\n",
       "      <td>2008-12-10T22:08:03Z</td>\n",
       "    </tr>\n",
       "    <tr>\n",
       "      <th>4</th>\n",
       "      <td>644173</td>\n",
       "      <td>48.910085</td>\n",
       "      <td>2.187915</td>\n",
       "      <td>Marcussacapuces91</td>\n",
       "      <td>37548</td>\n",
       "      <td>2</td>\n",
       "      <td>568845</td>\n",
       "      <td>2009-02-19T21:41:38Z</td>\n",
       "    </tr>\n",
       "  </tbody>\n",
       "</table>\n",
       "</div>"
      ],
      "text/plain": [
       "       id        lat       lon               user     uid  version  changeset  \\\n",
       "0  644169  48.904907  2.195935           osmmaker  210173        3   26474158   \n",
       "1  644170  48.906158  2.194022           osmmaker  210173        4   26474158   \n",
       "2  644171  48.907185  2.192674            jmorais    5404        1     191925   \n",
       "3  644172  48.909258  2.189542  Marcussacapuces91   37548        2     313659   \n",
       "4  644173  48.910085  2.187915  Marcussacapuces91   37548        2     568845   \n",
       "\n",
       "              timestamp  \n",
       "0  2014-11-01T02:01:56Z  \n",
       "1  2014-11-01T02:01:56Z  \n",
       "2  2007-01-11T18:35:55Z  \n",
       "3  2008-12-10T22:08:03Z  \n",
       "4  2009-02-19T21:41:38Z  "
      ]
     },
     "execution_count": 4,
     "metadata": {},
     "output_type": "execute_result"
    }
   ],
   "source": [
    "# First rows\n",
    "nodes.head()"
   ]
  },
  {
   "cell_type": "code",
   "execution_count": 5,
   "metadata": {
    "collapsed": false
   },
   "outputs": [
    {
     "data": {
      "text/html": [
       "<div>\n",
       "<table border=\"1\" class=\"dataframe\">\n",
       "  <thead>\n",
       "    <tr style=\"text-align: right;\">\n",
       "      <th></th>\n",
       "      <th>id</th>\n",
       "      <th>key</th>\n",
       "      <th>value</th>\n",
       "      <th>type</th>\n",
       "    </tr>\n",
       "  </thead>\n",
       "  <tbody>\n",
       "    <tr>\n",
       "      <th>0</th>\n",
       "      <td>644169</td>\n",
       "      <td>ele</td>\n",
       "      <td>31.380127</td>\n",
       "      <td>regular</td>\n",
       "    </tr>\n",
       "    <tr>\n",
       "      <th>1</th>\n",
       "      <td>644169</td>\n",
       "      <td>time</td>\n",
       "      <td>2006-03-18T16:45:21Z</td>\n",
       "      <td>regular</td>\n",
       "    </tr>\n",
       "    <tr>\n",
       "      <th>2</th>\n",
       "      <td>644170</td>\n",
       "      <td>ele</td>\n",
       "      <td>33.302856</td>\n",
       "      <td>regular</td>\n",
       "    </tr>\n",
       "    <tr>\n",
       "      <th>3</th>\n",
       "      <td>644170</td>\n",
       "      <td>time</td>\n",
       "      <td>2006-03-18T16:45:28Z</td>\n",
       "      <td>regular</td>\n",
       "    </tr>\n",
       "    <tr>\n",
       "      <th>4</th>\n",
       "      <td>644171</td>\n",
       "      <td>ele</td>\n",
       "      <td>32.341553</td>\n",
       "      <td>regular</td>\n",
       "    </tr>\n",
       "  </tbody>\n",
       "</table>\n",
       "</div>"
      ],
      "text/plain": [
       "       id   key                 value     type\n",
       "0  644169   ele             31.380127  regular\n",
       "1  644169  time  2006-03-18T16:45:21Z  regular\n",
       "2  644170   ele             33.302856  regular\n",
       "3  644170  time  2006-03-18T16:45:28Z  regular\n",
       "4  644171   ele             32.341553  regular"
      ]
     },
     "execution_count": 5,
     "metadata": {},
     "output_type": "execute_result"
    }
   ],
   "source": [
    "# first rows\n",
    "nodes_tags.head()"
   ]
  },
  {
   "cell_type": "code",
   "execution_count": 6,
   "metadata": {
    "collapsed": false
   },
   "outputs": [
    {
     "data": {
      "text/html": [
       "<div>\n",
       "<table border=\"1\" class=\"dataframe\">\n",
       "  <thead>\n",
       "    <tr style=\"text-align: right;\">\n",
       "      <th></th>\n",
       "      <th>id</th>\n",
       "      <th>user</th>\n",
       "      <th>uid</th>\n",
       "      <th>version</th>\n",
       "      <th>changeset</th>\n",
       "      <th>timestamp</th>\n",
       "    </tr>\n",
       "  </thead>\n",
       "  <tbody>\n",
       "    <tr>\n",
       "      <th>0</th>\n",
       "      <td>4017423</td>\n",
       "      <td>GFLE</td>\n",
       "      <td>3204818</td>\n",
       "      <td>5</td>\n",
       "      <td>33750669</td>\n",
       "      <td>2015-09-02T12:39:15Z</td>\n",
       "    </tr>\n",
       "    <tr>\n",
       "      <th>1</th>\n",
       "      <td>4017439</td>\n",
       "      <td>Ropino</td>\n",
       "      <td>42123</td>\n",
       "      <td>3</td>\n",
       "      <td>1534880</td>\n",
       "      <td>2009-06-16T13:52:16Z</td>\n",
       "    </tr>\n",
       "    <tr>\n",
       "      <th>2</th>\n",
       "      <td>4017440</td>\n",
       "      <td>Ropino</td>\n",
       "      <td>42123</td>\n",
       "      <td>3</td>\n",
       "      <td>1534880</td>\n",
       "      <td>2009-06-16T13:52:16Z</td>\n",
       "    </tr>\n",
       "    <tr>\n",
       "      <th>3</th>\n",
       "      <td>4017441</td>\n",
       "      <td>zxyisandy</td>\n",
       "      <td>4051292</td>\n",
       "      <td>3</td>\n",
       "      <td>40392515</td>\n",
       "      <td>2016-06-30T13:47:19Z</td>\n",
       "    </tr>\n",
       "    <tr>\n",
       "      <th>4</th>\n",
       "      <td>4017442</td>\n",
       "      <td>le_top</td>\n",
       "      <td>14213</td>\n",
       "      <td>2</td>\n",
       "      <td>505825</td>\n",
       "      <td>2008-05-23T13:21:11Z</td>\n",
       "    </tr>\n",
       "  </tbody>\n",
       "</table>\n",
       "</div>"
      ],
      "text/plain": [
       "        id       user      uid  version  changeset             timestamp\n",
       "0  4017423       GFLE  3204818        5   33750669  2015-09-02T12:39:15Z\n",
       "1  4017439     Ropino    42123        3    1534880  2009-06-16T13:52:16Z\n",
       "2  4017440     Ropino    42123        3    1534880  2009-06-16T13:52:16Z\n",
       "3  4017441  zxyisandy  4051292        3   40392515  2016-06-30T13:47:19Z\n",
       "4  4017442     le_top    14213        2     505825  2008-05-23T13:21:11Z"
      ]
     },
     "execution_count": 6,
     "metadata": {},
     "output_type": "execute_result"
    }
   ],
   "source": [
    "# first rows\n",
    "ways.head()"
   ]
  },
  {
   "cell_type": "code",
   "execution_count": 7,
   "metadata": {
    "collapsed": false
   },
   "outputs": [
    {
     "data": {
      "text/html": [
       "<div>\n",
       "<table border=\"1\" class=\"dataframe\">\n",
       "  <thead>\n",
       "    <tr style=\"text-align: right;\">\n",
       "      <th></th>\n",
       "      <th>id</th>\n",
       "      <th>node_id</th>\n",
       "      <th>position</th>\n",
       "    </tr>\n",
       "  </thead>\n",
       "  <tbody>\n",
       "    <tr>\n",
       "      <th>0</th>\n",
       "      <td>4017423</td>\n",
       "      <td>21292550</td>\n",
       "      <td>0</td>\n",
       "    </tr>\n",
       "    <tr>\n",
       "      <th>1</th>\n",
       "      <td>4017423</td>\n",
       "      <td>912526318</td>\n",
       "      <td>1</td>\n",
       "    </tr>\n",
       "    <tr>\n",
       "      <th>2</th>\n",
       "      <td>4017423</td>\n",
       "      <td>912526407</td>\n",
       "      <td>2</td>\n",
       "    </tr>\n",
       "    <tr>\n",
       "      <th>3</th>\n",
       "      <td>4017423</td>\n",
       "      <td>21292553</td>\n",
       "      <td>3</td>\n",
       "    </tr>\n",
       "    <tr>\n",
       "      <th>4</th>\n",
       "      <td>4017423</td>\n",
       "      <td>912526498</td>\n",
       "      <td>4</td>\n",
       "    </tr>\n",
       "  </tbody>\n",
       "</table>\n",
       "</div>"
      ],
      "text/plain": [
       "        id    node_id  position\n",
       "0  4017423   21292550         0\n",
       "1  4017423  912526318         1\n",
       "2  4017423  912526407         2\n",
       "3  4017423   21292553         3\n",
       "4  4017423  912526498         4"
      ]
     },
     "execution_count": 7,
     "metadata": {},
     "output_type": "execute_result"
    }
   ],
   "source": [
    "# first rows\n",
    "ways_nodes.head()"
   ]
  },
  {
   "cell_type": "code",
   "execution_count": 8,
   "metadata": {
    "collapsed": false
   },
   "outputs": [
    {
     "data": {
      "text/html": [
       "<div>\n",
       "<table border=\"1\" class=\"dataframe\">\n",
       "  <thead>\n",
       "    <tr style=\"text-align: right;\">\n",
       "      <th></th>\n",
       "      <th>id</th>\n",
       "      <th>key</th>\n",
       "      <th>value</th>\n",
       "      <th>type</th>\n",
       "    </tr>\n",
       "  </thead>\n",
       "  <tbody>\n",
       "    <tr>\n",
       "      <th>0</th>\n",
       "      <td>4017423</td>\n",
       "      <td>name</td>\n",
       "      <td>Hôpital Louis Mourier</td>\n",
       "      <td>regular</td>\n",
       "    </tr>\n",
       "    <tr>\n",
       "      <th>1</th>\n",
       "      <td>4017423</td>\n",
       "      <td>source</td>\n",
       "      <td>cadastre-dgi-fr source : Direction Générale de...</td>\n",
       "      <td>regular</td>\n",
       "    </tr>\n",
       "    <tr>\n",
       "      <th>2</th>\n",
       "      <td>4017423</td>\n",
       "      <td>amenity</td>\n",
       "      <td>hospital</td>\n",
       "      <td>regular</td>\n",
       "    </tr>\n",
       "    <tr>\n",
       "      <th>3</th>\n",
       "      <td>4017423</td>\n",
       "      <td>city</td>\n",
       "      <td>Colombes</td>\n",
       "      <td>addr</td>\n",
       "    </tr>\n",
       "    <tr>\n",
       "      <th>4</th>\n",
       "      <td>4017423</td>\n",
       "      <td>emergency</td>\n",
       "      <td>yes</td>\n",
       "      <td>regular</td>\n",
       "    </tr>\n",
       "  </tbody>\n",
       "</table>\n",
       "</div>"
      ],
      "text/plain": [
       "        id        key                                              value  \\\n",
       "0  4017423       name                              Hôpital Louis Mourier   \n",
       "1  4017423     source  cadastre-dgi-fr source : Direction Générale de...   \n",
       "2  4017423    amenity                                           hospital   \n",
       "3  4017423       city                                           Colombes   \n",
       "4  4017423  emergency                                                yes   \n",
       "\n",
       "      type  \n",
       "0  regular  \n",
       "1  regular  \n",
       "2  regular  \n",
       "3     addr  \n",
       "4  regular  "
      ]
     },
     "execution_count": 8,
     "metadata": {},
     "output_type": "execute_result"
    }
   ],
   "source": [
    "# first rows\n",
    "ways_tags.head()"
   ]
  },
  {
   "cell_type": "code",
   "execution_count": 9,
   "metadata": {
    "collapsed": false,
    "scrolled": true
   },
   "outputs": [
    {
     "data": {
      "text/html": [
       "<div>\n",
       "<table border=\"1\" class=\"dataframe\">\n",
       "  <thead>\n",
       "    <tr style=\"text-align: right;\">\n",
       "      <th></th>\n",
       "      <th>id</th>\n",
       "      <th>lat</th>\n",
       "      <th>lon</th>\n",
       "      <th>user</th>\n",
       "      <th>uid</th>\n",
       "      <th>version</th>\n",
       "      <th>changeset</th>\n",
       "      <th>timestamp</th>\n",
       "    </tr>\n",
       "  </thead>\n",
       "  <tbody>\n",
       "    <tr>\n",
       "      <th>468044</th>\n",
       "      <td>5024575958</td>\n",
       "      <td>48.891269</td>\n",
       "      <td>2.241062</td>\n",
       "      <td>CitymapperHQ</td>\n",
       "      <td>2818856</td>\n",
       "      <td>1</td>\n",
       "      <td>50975215</td>\n",
       "      <td>2017-08-09T14:26:49Z</td>\n",
       "    </tr>\n",
       "    <tr>\n",
       "      <th>468045</th>\n",
       "      <td>5024575959</td>\n",
       "      <td>48.891378</td>\n",
       "      <td>2.240816</td>\n",
       "      <td>CitymapperHQ</td>\n",
       "      <td>2818856</td>\n",
       "      <td>1</td>\n",
       "      <td>50975215</td>\n",
       "      <td>2017-08-09T14:26:49Z</td>\n",
       "    </tr>\n",
       "    <tr>\n",
       "      <th>468046</th>\n",
       "      <td>5024575960</td>\n",
       "      <td>48.890739</td>\n",
       "      <td>2.240365</td>\n",
       "      <td>CitymapperHQ</td>\n",
       "      <td>2818856</td>\n",
       "      <td>1</td>\n",
       "      <td>50975215</td>\n",
       "      <td>2017-08-09T14:26:49Z</td>\n",
       "    </tr>\n",
       "    <tr>\n",
       "      <th>468047</th>\n",
       "      <td>5024575961</td>\n",
       "      <td>48.890371</td>\n",
       "      <td>2.242923</td>\n",
       "      <td>CitymapperHQ</td>\n",
       "      <td>2818856</td>\n",
       "      <td>1</td>\n",
       "      <td>50975215</td>\n",
       "      <td>2017-08-09T14:26:50Z</td>\n",
       "    </tr>\n",
       "    <tr>\n",
       "      <th>468048</th>\n",
       "      <td>5034933313</td>\n",
       "      <td>48.889958</td>\n",
       "      <td>2.237906</td>\n",
       "      <td>TOTOleHero</td>\n",
       "      <td>212209</td>\n",
       "      <td>1</td>\n",
       "      <td>51114986</td>\n",
       "      <td>2017-08-14T16:02:02Z</td>\n",
       "    </tr>\n",
       "  </tbody>\n",
       "</table>\n",
       "</div>"
      ],
      "text/plain": [
       "                id        lat       lon          user      uid  version  \\\n",
       "468044  5024575958  48.891269  2.241062  CitymapperHQ  2818856        1   \n",
       "468045  5024575959  48.891378  2.240816  CitymapperHQ  2818856        1   \n",
       "468046  5024575960  48.890739  2.240365  CitymapperHQ  2818856        1   \n",
       "468047  5024575961  48.890371  2.242923  CitymapperHQ  2818856        1   \n",
       "468048  5034933313  48.889958  2.237906    TOTOleHero   212209        1   \n",
       "\n",
       "        changeset             timestamp  \n",
       "468044   50975215  2017-08-09T14:26:49Z  \n",
       "468045   50975215  2017-08-09T14:26:49Z  \n",
       "468046   50975215  2017-08-09T14:26:49Z  \n",
       "468047   50975215  2017-08-09T14:26:50Z  \n",
       "468048   51114986  2017-08-14T16:02:02Z  "
      ]
     },
     "execution_count": 9,
     "metadata": {},
     "output_type": "execute_result"
    }
   ],
   "source": [
    "# Last rows\n",
    "nodes.tail()"
   ]
  },
  {
   "cell_type": "code",
   "execution_count": 10,
   "metadata": {
    "collapsed": false
   },
   "outputs": [
    {
     "data": {
      "text/html": [
       "<div>\n",
       "<table border=\"1\" class=\"dataframe\">\n",
       "  <thead>\n",
       "    <tr style=\"text-align: right;\">\n",
       "      <th></th>\n",
       "      <th>id</th>\n",
       "      <th>key</th>\n",
       "      <th>value</th>\n",
       "      <th>type</th>\n",
       "    </tr>\n",
       "  </thead>\n",
       "  <tbody>\n",
       "    <tr>\n",
       "      <th>67823</th>\n",
       "      <td>5022078486</td>\n",
       "      <td>source</td>\n",
       "      <td>Bing</td>\n",
       "      <td>regular</td>\n",
       "    </tr>\n",
       "    <tr>\n",
       "      <th>67824</th>\n",
       "      <td>5034933313</td>\n",
       "      <td>ele</td>\n",
       "      <td>285.0</td>\n",
       "      <td>regular</td>\n",
       "    </tr>\n",
       "    <tr>\n",
       "      <th>67825</th>\n",
       "      <td>5034933313</td>\n",
       "      <td>msl</td>\n",
       "      <td>285.0</td>\n",
       "      <td>ele</td>\n",
       "    </tr>\n",
       "    <tr>\n",
       "      <th>67826</th>\n",
       "      <td>5034933313</td>\n",
       "      <td>source</td>\n",
       "      <td>GPS</td>\n",
       "      <td>ele</td>\n",
       "    </tr>\n",
       "    <tr>\n",
       "      <th>67827</th>\n",
       "      <td>5034933313</td>\n",
       "      <td>source</td>\n",
       "      <td>GPS</td>\n",
       "      <td>regular</td>\n",
       "    </tr>\n",
       "  </tbody>\n",
       "</table>\n",
       "</div>"
      ],
      "text/plain": [
       "               id     key  value     type\n",
       "67823  5022078486  source   Bing  regular\n",
       "67824  5034933313     ele  285.0  regular\n",
       "67825  5034933313     msl  285.0      ele\n",
       "67826  5034933313  source    GPS      ele\n",
       "67827  5034933313  source    GPS  regular"
      ]
     },
     "execution_count": 10,
     "metadata": {},
     "output_type": "execute_result"
    }
   ],
   "source": [
    "# Last rows\n",
    "nodes_tags.tail()"
   ]
  },
  {
   "cell_type": "code",
   "execution_count": 11,
   "metadata": {
    "collapsed": false
   },
   "outputs": [
    {
     "data": {
      "text/html": [
       "<div>\n",
       "<table border=\"1\" class=\"dataframe\">\n",
       "  <thead>\n",
       "    <tr style=\"text-align: right;\">\n",
       "      <th></th>\n",
       "      <th>id</th>\n",
       "      <th>user</th>\n",
       "      <th>uid</th>\n",
       "      <th>version</th>\n",
       "      <th>changeset</th>\n",
       "      <th>timestamp</th>\n",
       "    </tr>\n",
       "  </thead>\n",
       "  <tbody>\n",
       "    <tr>\n",
       "      <th>75244</th>\n",
       "      <td>514256238</td>\n",
       "      <td>CitymapperHQ</td>\n",
       "      <td>2818856</td>\n",
       "      <td>1</td>\n",
       "      <td>50975215</td>\n",
       "      <td>2017-08-09T14:26:50Z</td>\n",
       "    </tr>\n",
       "    <tr>\n",
       "      <th>75245</th>\n",
       "      <td>514256239</td>\n",
       "      <td>CitymapperHQ</td>\n",
       "      <td>2818856</td>\n",
       "      <td>1</td>\n",
       "      <td>50975215</td>\n",
       "      <td>2017-08-09T14:26:50Z</td>\n",
       "    </tr>\n",
       "    <tr>\n",
       "      <th>75246</th>\n",
       "      <td>514256240</td>\n",
       "      <td>CitymapperHQ</td>\n",
       "      <td>2818856</td>\n",
       "      <td>1</td>\n",
       "      <td>50975215</td>\n",
       "      <td>2017-08-09T14:26:50Z</td>\n",
       "    </tr>\n",
       "    <tr>\n",
       "      <th>75247</th>\n",
       "      <td>514256241</td>\n",
       "      <td>CitymapperHQ</td>\n",
       "      <td>2818856</td>\n",
       "      <td>1</td>\n",
       "      <td>50975215</td>\n",
       "      <td>2017-08-09T14:26:50Z</td>\n",
       "    </tr>\n",
       "    <tr>\n",
       "      <th>75248</th>\n",
       "      <td>514256242</td>\n",
       "      <td>CitymapperHQ</td>\n",
       "      <td>2818856</td>\n",
       "      <td>1</td>\n",
       "      <td>50975215</td>\n",
       "      <td>2017-08-09T14:26:50Z</td>\n",
       "    </tr>\n",
       "  </tbody>\n",
       "</table>\n",
       "</div>"
      ],
      "text/plain": [
       "              id          user      uid  version  changeset  \\\n",
       "75244  514256238  CitymapperHQ  2818856        1   50975215   \n",
       "75245  514256239  CitymapperHQ  2818856        1   50975215   \n",
       "75246  514256240  CitymapperHQ  2818856        1   50975215   \n",
       "75247  514256241  CitymapperHQ  2818856        1   50975215   \n",
       "75248  514256242  CitymapperHQ  2818856        1   50975215   \n",
       "\n",
       "                  timestamp  \n",
       "75244  2017-08-09T14:26:50Z  \n",
       "75245  2017-08-09T14:26:50Z  \n",
       "75246  2017-08-09T14:26:50Z  \n",
       "75247  2017-08-09T14:26:50Z  \n",
       "75248  2017-08-09T14:26:50Z  "
      ]
     },
     "execution_count": 11,
     "metadata": {},
     "output_type": "execute_result"
    }
   ],
   "source": [
    "# Last rows\n",
    "ways.tail()"
   ]
  },
  {
   "cell_type": "code",
   "execution_count": 12,
   "metadata": {
    "collapsed": false
   },
   "outputs": [
    {
     "data": {
      "text/html": [
       "<div>\n",
       "<table border=\"1\" class=\"dataframe\">\n",
       "  <thead>\n",
       "    <tr style=\"text-align: right;\">\n",
       "      <th></th>\n",
       "      <th>id</th>\n",
       "      <th>node_id</th>\n",
       "      <th>position</th>\n",
       "    </tr>\n",
       "  </thead>\n",
       "  <tbody>\n",
       "    <tr>\n",
       "      <th>639861</th>\n",
       "      <td>514256240</td>\n",
       "      <td>5024575960</td>\n",
       "      <td>1</td>\n",
       "    </tr>\n",
       "    <tr>\n",
       "      <th>639862</th>\n",
       "      <td>514256241</td>\n",
       "      <td>2379216840</td>\n",
       "      <td>0</td>\n",
       "    </tr>\n",
       "    <tr>\n",
       "      <th>639863</th>\n",
       "      <td>514256241</td>\n",
       "      <td>5024575961</td>\n",
       "      <td>1</td>\n",
       "    </tr>\n",
       "    <tr>\n",
       "      <th>639864</th>\n",
       "      <td>514256241</td>\n",
       "      <td>2379216830</td>\n",
       "      <td>2</td>\n",
       "    </tr>\n",
       "    <tr>\n",
       "      <th>639865</th>\n",
       "      <td>514256242</td>\n",
       "      <td>5024575961</td>\n",
       "      <td>0</td>\n",
       "    </tr>\n",
       "  </tbody>\n",
       "</table>\n",
       "</div>"
      ],
      "text/plain": [
       "               id     node_id  position\n",
       "639861  514256240  5024575960         1\n",
       "639862  514256241  2379216840         0\n",
       "639863  514256241  5024575961         1\n",
       "639864  514256241  2379216830         2\n",
       "639865  514256242  5024575961         0"
      ]
     },
     "execution_count": 12,
     "metadata": {},
     "output_type": "execute_result"
    }
   ],
   "source": [
    "# Last rows\n",
    "ways_nodes.tail()"
   ]
  },
  {
   "cell_type": "code",
   "execution_count": 13,
   "metadata": {
    "collapsed": false
   },
   "outputs": [
    {
     "data": {
      "text/html": [
       "<div>\n",
       "<table border=\"1\" class=\"dataframe\">\n",
       "  <thead>\n",
       "    <tr style=\"text-align: right;\">\n",
       "      <th></th>\n",
       "      <th>id</th>\n",
       "      <th>key</th>\n",
       "      <th>value</th>\n",
       "      <th>type</th>\n",
       "    </tr>\n",
       "  </thead>\n",
       "  <tbody>\n",
       "    <tr>\n",
       "      <th>206449</th>\n",
       "      <td>514256238</td>\n",
       "      <td>highway</td>\n",
       "      <td>footway</td>\n",
       "      <td>regular</td>\n",
       "    </tr>\n",
       "    <tr>\n",
       "      <th>206450</th>\n",
       "      <td>514256239</td>\n",
       "      <td>highway</td>\n",
       "      <td>footway</td>\n",
       "      <td>regular</td>\n",
       "    </tr>\n",
       "    <tr>\n",
       "      <th>206451</th>\n",
       "      <td>514256240</td>\n",
       "      <td>highway</td>\n",
       "      <td>footway</td>\n",
       "      <td>regular</td>\n",
       "    </tr>\n",
       "    <tr>\n",
       "      <th>206452</th>\n",
       "      <td>514256241</td>\n",
       "      <td>highway</td>\n",
       "      <td>footway</td>\n",
       "      <td>regular</td>\n",
       "    </tr>\n",
       "    <tr>\n",
       "      <th>206453</th>\n",
       "      <td>514256242</td>\n",
       "      <td>highway</td>\n",
       "      <td>footway</td>\n",
       "      <td>regular</td>\n",
       "    </tr>\n",
       "  </tbody>\n",
       "</table>\n",
       "</div>"
      ],
      "text/plain": [
       "               id      key    value     type\n",
       "206449  514256238  highway  footway  regular\n",
       "206450  514256239  highway  footway  regular\n",
       "206451  514256240  highway  footway  regular\n",
       "206452  514256241  highway  footway  regular\n",
       "206453  514256242  highway  footway  regular"
      ]
     },
     "execution_count": 13,
     "metadata": {},
     "output_type": "execute_result"
    }
   ],
   "source": [
    "# Last rows\n",
    "ways_tags.tail()"
   ]
  },
  {
   "cell_type": "code",
   "execution_count": 14,
   "metadata": {
    "collapsed": false
   },
   "outputs": [
    {
     "data": {
      "text/html": [
       "<div>\n",
       "<table border=\"1\" class=\"dataframe\">\n",
       "  <thead>\n",
       "    <tr style=\"text-align: right;\">\n",
       "      <th></th>\n",
       "      <th>id</th>\n",
       "      <th>lat</th>\n",
       "      <th>lon</th>\n",
       "      <th>user</th>\n",
       "      <th>uid</th>\n",
       "      <th>version</th>\n",
       "      <th>changeset</th>\n",
       "      <th>timestamp</th>\n",
       "    </tr>\n",
       "  </thead>\n",
       "  <tbody>\n",
       "    <tr>\n",
       "      <th>count</th>\n",
       "      <td>4.680490e+05</td>\n",
       "      <td>468049.000000</td>\n",
       "      <td>468049.000000</td>\n",
       "      <td>468049</td>\n",
       "      <td>4.680490e+05</td>\n",
       "      <td>468049.000000</td>\n",
       "      <td>4.680490e+05</td>\n",
       "      <td>468049</td>\n",
       "    </tr>\n",
       "    <tr>\n",
       "      <th>unique</th>\n",
       "      <td>NaN</td>\n",
       "      <td>NaN</td>\n",
       "      <td>NaN</td>\n",
       "      <td>524</td>\n",
       "      <td>NaN</td>\n",
       "      <td>NaN</td>\n",
       "      <td>NaN</td>\n",
       "      <td>59402</td>\n",
       "    </tr>\n",
       "    <tr>\n",
       "      <th>top</th>\n",
       "      <td>NaN</td>\n",
       "      <td>NaN</td>\n",
       "      <td>NaN</td>\n",
       "      <td>osmmaker</td>\n",
       "      <td>NaN</td>\n",
       "      <td>NaN</td>\n",
       "      <td>NaN</td>\n",
       "      <td>2016-10-11T22:35:33Z</td>\n",
       "    </tr>\n",
       "    <tr>\n",
       "      <th>freq</th>\n",
       "      <td>NaN</td>\n",
       "      <td>NaN</td>\n",
       "      <td>NaN</td>\n",
       "      <td>315739</td>\n",
       "      <td>NaN</td>\n",
       "      <td>NaN</td>\n",
       "      <td>NaN</td>\n",
       "      <td>90</td>\n",
       "    </tr>\n",
       "    <tr>\n",
       "      <th>mean</th>\n",
       "      <td>1.334606e+09</td>\n",
       "      <td>48.896212</td>\n",
       "      <td>2.205518</td>\n",
       "      <td>NaN</td>\n",
       "      <td>2.723904e+05</td>\n",
       "      <td>1.208015</td>\n",
       "      <td>1.129034e+07</td>\n",
       "      <td>NaN</td>\n",
       "    </tr>\n",
       "    <tr>\n",
       "      <th>std</th>\n",
       "      <td>9.113163e+08</td>\n",
       "      <td>0.016636</td>\n",
       "      <td>0.022996</td>\n",
       "      <td>NaN</td>\n",
       "      <td>3.985535e+05</td>\n",
       "      <td>0.859272</td>\n",
       "      <td>1.043671e+07</td>\n",
       "      <td>NaN</td>\n",
       "    </tr>\n",
       "    <tr>\n",
       "      <th>min</th>\n",
       "      <td>6.441690e+05</td>\n",
       "      <td>48.868817</td>\n",
       "      <td>2.160813</td>\n",
       "      <td>NaN</td>\n",
       "      <td>1.308000e+03</td>\n",
       "      <td>1.000000</td>\n",
       "      <td>3.897000e+03</td>\n",
       "      <td>NaN</td>\n",
       "    </tr>\n",
       "    <tr>\n",
       "      <th>25%</th>\n",
       "      <td>8.456214e+08</td>\n",
       "      <td>48.881917</td>\n",
       "      <td>2.186339</td>\n",
       "      <td>NaN</td>\n",
       "      <td>2.101730e+05</td>\n",
       "      <td>1.000000</td>\n",
       "      <td>5.396011e+06</td>\n",
       "      <td>NaN</td>\n",
       "    </tr>\n",
       "    <tr>\n",
       "      <th>50%</th>\n",
       "      <td>9.039869e+08</td>\n",
       "      <td>48.893422</td>\n",
       "      <td>2.204238</td>\n",
       "      <td>NaN</td>\n",
       "      <td>2.101730e+05</td>\n",
       "      <td>1.000000</td>\n",
       "      <td>5.874774e+06</td>\n",
       "      <td>NaN</td>\n",
       "    </tr>\n",
       "    <tr>\n",
       "      <th>75%</th>\n",
       "      <td>1.447000e+09</td>\n",
       "      <td>48.911936</td>\n",
       "      <td>2.226171</td>\n",
       "      <td>NaN</td>\n",
       "      <td>2.101730e+05</td>\n",
       "      <td>1.000000</td>\n",
       "      <td>1.087844e+07</td>\n",
       "      <td>NaN</td>\n",
       "    </tr>\n",
       "    <tr>\n",
       "      <th>max</th>\n",
       "      <td>5.034933e+09</td>\n",
       "      <td>48.926030</td>\n",
       "      <td>2.243548</td>\n",
       "      <td>NaN</td>\n",
       "      <td>6.382017e+06</td>\n",
       "      <td>50.000000</td>\n",
       "      <td>5.111499e+07</td>\n",
       "      <td>NaN</td>\n",
       "    </tr>\n",
       "  </tbody>\n",
       "</table>\n",
       "</div>"
      ],
      "text/plain": [
       "                  id            lat            lon      user           uid  \\\n",
       "count   4.680490e+05  468049.000000  468049.000000    468049  4.680490e+05   \n",
       "unique           NaN            NaN            NaN       524           NaN   \n",
       "top              NaN            NaN            NaN  osmmaker           NaN   \n",
       "freq             NaN            NaN            NaN    315739           NaN   \n",
       "mean    1.334606e+09      48.896212       2.205518       NaN  2.723904e+05   \n",
       "std     9.113163e+08       0.016636       0.022996       NaN  3.985535e+05   \n",
       "min     6.441690e+05      48.868817       2.160813       NaN  1.308000e+03   \n",
       "25%     8.456214e+08      48.881917       2.186339       NaN  2.101730e+05   \n",
       "50%     9.039869e+08      48.893422       2.204238       NaN  2.101730e+05   \n",
       "75%     1.447000e+09      48.911936       2.226171       NaN  2.101730e+05   \n",
       "max     5.034933e+09      48.926030       2.243548       NaN  6.382017e+06   \n",
       "\n",
       "              version     changeset             timestamp  \n",
       "count   468049.000000  4.680490e+05                468049  \n",
       "unique            NaN           NaN                 59402  \n",
       "top               NaN           NaN  2016-10-11T22:35:33Z  \n",
       "freq              NaN           NaN                    90  \n",
       "mean         1.208015  1.129034e+07                   NaN  \n",
       "std          0.859272  1.043671e+07                   NaN  \n",
       "min          1.000000  3.897000e+03                   NaN  \n",
       "25%          1.000000  5.396011e+06                   NaN  \n",
       "50%          1.000000  5.874774e+06                   NaN  \n",
       "75%          1.000000  1.087844e+07                   NaN  \n",
       "max         50.000000  5.111499e+07                   NaN  "
      ]
     },
     "execution_count": 14,
     "metadata": {},
     "output_type": "execute_result"
    }
   ],
   "source": [
    "# Summary of data\n",
    "nodes.describe(include = 'all')"
   ]
  },
  {
   "cell_type": "code",
   "execution_count": 15,
   "metadata": {
    "collapsed": false
   },
   "outputs": [
    {
     "data": {
      "text/html": [
       "<div>\n",
       "<table border=\"1\" class=\"dataframe\">\n",
       "  <thead>\n",
       "    <tr style=\"text-align: right;\">\n",
       "      <th></th>\n",
       "      <th>id</th>\n",
       "      <th>key</th>\n",
       "      <th>value</th>\n",
       "      <th>type</th>\n",
       "    </tr>\n",
       "  </thead>\n",
       "  <tbody>\n",
       "    <tr>\n",
       "      <th>count</th>\n",
       "      <td>6.782800e+04</td>\n",
       "      <td>67828</td>\n",
       "      <td>67827</td>\n",
       "      <td>67828</td>\n",
       "    </tr>\n",
       "    <tr>\n",
       "      <th>unique</th>\n",
       "      <td>NaN</td>\n",
       "      <td>409</td>\n",
       "      <td>6954</td>\n",
       "      <td>61</td>\n",
       "    </tr>\n",
       "    <tr>\n",
       "      <th>top</th>\n",
       "      <td>NaN</td>\n",
       "      <td>source</td>\n",
       "      <td>yes</td>\n",
       "      <td>regular</td>\n",
       "    </tr>\n",
       "    <tr>\n",
       "      <th>freq</th>\n",
       "      <td>NaN</td>\n",
       "      <td>13374</td>\n",
       "      <td>5197</td>\n",
       "      <td>51483</td>\n",
       "    </tr>\n",
       "    <tr>\n",
       "      <th>mean</th>\n",
       "      <td>2.622573e+09</td>\n",
       "      <td>NaN</td>\n",
       "      <td>NaN</td>\n",
       "      <td>NaN</td>\n",
       "    </tr>\n",
       "    <tr>\n",
       "      <th>std</th>\n",
       "      <td>1.213656e+09</td>\n",
       "      <td>NaN</td>\n",
       "      <td>NaN</td>\n",
       "      <td>NaN</td>\n",
       "    </tr>\n",
       "    <tr>\n",
       "      <th>min</th>\n",
       "      <td>6.441690e+05</td>\n",
       "      <td>NaN</td>\n",
       "      <td>NaN</td>\n",
       "      <td>NaN</td>\n",
       "    </tr>\n",
       "    <tr>\n",
       "      <th>25%</th>\n",
       "      <td>1.758960e+09</td>\n",
       "      <td>NaN</td>\n",
       "      <td>NaN</td>\n",
       "      <td>NaN</td>\n",
       "    </tr>\n",
       "    <tr>\n",
       "      <th>50%</th>\n",
       "      <td>2.716322e+09</td>\n",
       "      <td>NaN</td>\n",
       "      <td>NaN</td>\n",
       "      <td>NaN</td>\n",
       "    </tr>\n",
       "    <tr>\n",
       "      <th>75%</th>\n",
       "      <td>3.612668e+09</td>\n",
       "      <td>NaN</td>\n",
       "      <td>NaN</td>\n",
       "      <td>NaN</td>\n",
       "    </tr>\n",
       "    <tr>\n",
       "      <th>max</th>\n",
       "      <td>5.034933e+09</td>\n",
       "      <td>NaN</td>\n",
       "      <td>NaN</td>\n",
       "      <td>NaN</td>\n",
       "    </tr>\n",
       "  </tbody>\n",
       "</table>\n",
       "</div>"
      ],
      "text/plain": [
       "                  id     key  value     type\n",
       "count   6.782800e+04   67828  67827    67828\n",
       "unique           NaN     409   6954       61\n",
       "top              NaN  source    yes  regular\n",
       "freq             NaN   13374   5197    51483\n",
       "mean    2.622573e+09     NaN    NaN      NaN\n",
       "std     1.213656e+09     NaN    NaN      NaN\n",
       "min     6.441690e+05     NaN    NaN      NaN\n",
       "25%     1.758960e+09     NaN    NaN      NaN\n",
       "50%     2.716322e+09     NaN    NaN      NaN\n",
       "75%     3.612668e+09     NaN    NaN      NaN\n",
       "max     5.034933e+09     NaN    NaN      NaN"
      ]
     },
     "execution_count": 15,
     "metadata": {},
     "output_type": "execute_result"
    }
   ],
   "source": [
    "# Summary of data\n",
    "nodes_tags.describe(include = 'all')"
   ]
  },
  {
   "cell_type": "code",
   "execution_count": 16,
   "metadata": {
    "collapsed": false
   },
   "outputs": [
    {
     "data": {
      "text/html": [
       "<div>\n",
       "<table border=\"1\" class=\"dataframe\">\n",
       "  <thead>\n",
       "    <tr style=\"text-align: right;\">\n",
       "      <th></th>\n",
       "      <th>id</th>\n",
       "      <th>user</th>\n",
       "      <th>uid</th>\n",
       "      <th>version</th>\n",
       "      <th>changeset</th>\n",
       "      <th>timestamp</th>\n",
       "    </tr>\n",
       "  </thead>\n",
       "  <tbody>\n",
       "    <tr>\n",
       "      <th>count</th>\n",
       "      <td>7.524900e+04</td>\n",
       "      <td>75249</td>\n",
       "      <td>7.524900e+04</td>\n",
       "      <td>75249.000000</td>\n",
       "      <td>7.524900e+04</td>\n",
       "      <td>75249</td>\n",
       "    </tr>\n",
       "    <tr>\n",
       "      <th>unique</th>\n",
       "      <td>NaN</td>\n",
       "      <td>445</td>\n",
       "      <td>NaN</td>\n",
       "      <td>NaN</td>\n",
       "      <td>NaN</td>\n",
       "      <td>29547</td>\n",
       "    </tr>\n",
       "    <tr>\n",
       "      <th>top</th>\n",
       "      <td>NaN</td>\n",
       "      <td>osmmaker</td>\n",
       "      <td>NaN</td>\n",
       "      <td>NaN</td>\n",
       "      <td>NaN</td>\n",
       "      <td>2013-10-16T14:01:57Z</td>\n",
       "    </tr>\n",
       "    <tr>\n",
       "      <th>freq</th>\n",
       "      <td>NaN</td>\n",
       "      <td>45790</td>\n",
       "      <td>NaN</td>\n",
       "      <td>NaN</td>\n",
       "      <td>NaN</td>\n",
       "      <td>25</td>\n",
       "    </tr>\n",
       "    <tr>\n",
       "      <th>mean</th>\n",
       "      <td>1.266795e+08</td>\n",
       "      <td>NaN</td>\n",
       "      <td>3.853115e+05</td>\n",
       "      <td>1.867706</td>\n",
       "      <td>1.760128e+07</td>\n",
       "      <td>NaN</td>\n",
       "    </tr>\n",
       "    <tr>\n",
       "      <th>std</th>\n",
       "      <td>1.008526e+08</td>\n",
       "      <td>NaN</td>\n",
       "      <td>7.061187e+05</td>\n",
       "      <td>2.054042</td>\n",
       "      <td>1.442183e+07</td>\n",
       "      <td>NaN</td>\n",
       "    </tr>\n",
       "    <tr>\n",
       "      <th>min</th>\n",
       "      <td>4.017423e+06</td>\n",
       "      <td>NaN</td>\n",
       "      <td>1.679000e+03</td>\n",
       "      <td>1.000000</td>\n",
       "      <td>8.329300e+04</td>\n",
       "      <td>NaN</td>\n",
       "    </tr>\n",
       "    <tr>\n",
       "      <th>25%</th>\n",
       "      <td>7.096535e+07</td>\n",
       "      <td>NaN</td>\n",
       "      <td>2.101730e+05</td>\n",
       "      <td>1.000000</td>\n",
       "      <td>5.537518e+06</td>\n",
       "      <td>NaN</td>\n",
       "    </tr>\n",
       "    <tr>\n",
       "      <th>50%</th>\n",
       "      <td>7.783212e+07</td>\n",
       "      <td>NaN</td>\n",
       "      <td>2.101730e+05</td>\n",
       "      <td>1.000000</td>\n",
       "      <td>9.413540e+06</td>\n",
       "      <td>NaN</td>\n",
       "    </tr>\n",
       "    <tr>\n",
       "      <th>75%</th>\n",
       "      <td>1.315204e+08</td>\n",
       "      <td>NaN</td>\n",
       "      <td>2.101730e+05</td>\n",
       "      <td>2.000000</td>\n",
       "      <td>3.215952e+07</td>\n",
       "      <td>NaN</td>\n",
       "    </tr>\n",
       "    <tr>\n",
       "      <th>max</th>\n",
       "      <td>5.142562e+08</td>\n",
       "      <td>NaN</td>\n",
       "      <td>6.336902e+06</td>\n",
       "      <td>69.000000</td>\n",
       "      <td>5.111156e+07</td>\n",
       "      <td>NaN</td>\n",
       "    </tr>\n",
       "  </tbody>\n",
       "</table>\n",
       "</div>"
      ],
      "text/plain": [
       "                  id      user           uid       version     changeset  \\\n",
       "count   7.524900e+04     75249  7.524900e+04  75249.000000  7.524900e+04   \n",
       "unique           NaN       445           NaN           NaN           NaN   \n",
       "top              NaN  osmmaker           NaN           NaN           NaN   \n",
       "freq             NaN     45790           NaN           NaN           NaN   \n",
       "mean    1.266795e+08       NaN  3.853115e+05      1.867706  1.760128e+07   \n",
       "std     1.008526e+08       NaN  7.061187e+05      2.054042  1.442183e+07   \n",
       "min     4.017423e+06       NaN  1.679000e+03      1.000000  8.329300e+04   \n",
       "25%     7.096535e+07       NaN  2.101730e+05      1.000000  5.537518e+06   \n",
       "50%     7.783212e+07       NaN  2.101730e+05      1.000000  9.413540e+06   \n",
       "75%     1.315204e+08       NaN  2.101730e+05      2.000000  3.215952e+07   \n",
       "max     5.142562e+08       NaN  6.336902e+06     69.000000  5.111156e+07   \n",
       "\n",
       "                   timestamp  \n",
       "count                  75249  \n",
       "unique                 29547  \n",
       "top     2013-10-16T14:01:57Z  \n",
       "freq                      25  \n",
       "mean                     NaN  \n",
       "std                      NaN  \n",
       "min                      NaN  \n",
       "25%                      NaN  \n",
       "50%                      NaN  \n",
       "75%                      NaN  \n",
       "max                      NaN  "
      ]
     },
     "execution_count": 16,
     "metadata": {},
     "output_type": "execute_result"
    }
   ],
   "source": [
    "# Summary of data\n",
    "ways.describe(include = 'all')"
   ]
  },
  {
   "cell_type": "code",
   "execution_count": 17,
   "metadata": {
    "collapsed": false
   },
   "outputs": [
    {
     "data": {
      "text/html": [
       "<div>\n",
       "<table border=\"1\" class=\"dataframe\">\n",
       "  <thead>\n",
       "    <tr style=\"text-align: right;\">\n",
       "      <th></th>\n",
       "      <th>id</th>\n",
       "      <th>node_id</th>\n",
       "      <th>position</th>\n",
       "    </tr>\n",
       "  </thead>\n",
       "  <tbody>\n",
       "    <tr>\n",
       "      <th>count</th>\n",
       "      <td>6.398660e+05</td>\n",
       "      <td>6.398660e+05</td>\n",
       "      <td>639866.000000</td>\n",
       "    </tr>\n",
       "    <tr>\n",
       "      <th>mean</th>\n",
       "      <td>1.205322e+08</td>\n",
       "      <td>1.281910e+09</td>\n",
       "      <td>8.862542</td>\n",
       "    </tr>\n",
       "    <tr>\n",
       "      <th>std</th>\n",
       "      <td>9.582478e+07</td>\n",
       "      <td>8.694879e+08</td>\n",
       "      <td>21.889145</td>\n",
       "    </tr>\n",
       "    <tr>\n",
       "      <th>min</th>\n",
       "      <td>4.017423e+06</td>\n",
       "      <td>6.441690e+05</td>\n",
       "      <td>0.000000</td>\n",
       "    </tr>\n",
       "    <tr>\n",
       "      <th>25%</th>\n",
       "      <td>7.095972e+07</td>\n",
       "      <td>8.404975e+08</td>\n",
       "      <td>2.000000</td>\n",
       "    </tr>\n",
       "    <tr>\n",
       "      <th>50%</th>\n",
       "      <td>7.669654e+07</td>\n",
       "      <td>9.007567e+08</td>\n",
       "      <td>4.000000</td>\n",
       "    </tr>\n",
       "    <tr>\n",
       "      <th>75%</th>\n",
       "      <td>1.314046e+08</td>\n",
       "      <td>1.446193e+09</td>\n",
       "      <td>8.000000</td>\n",
       "    </tr>\n",
       "    <tr>\n",
       "      <th>max</th>\n",
       "      <td>5.142562e+08</td>\n",
       "      <td>5.024576e+09</td>\n",
       "      <td>576.000000</td>\n",
       "    </tr>\n",
       "  </tbody>\n",
       "</table>\n",
       "</div>"
      ],
      "text/plain": [
       "                 id       node_id       position\n",
       "count  6.398660e+05  6.398660e+05  639866.000000\n",
       "mean   1.205322e+08  1.281910e+09       8.862542\n",
       "std    9.582478e+07  8.694879e+08      21.889145\n",
       "min    4.017423e+06  6.441690e+05       0.000000\n",
       "25%    7.095972e+07  8.404975e+08       2.000000\n",
       "50%    7.669654e+07  9.007567e+08       4.000000\n",
       "75%    1.314046e+08  1.446193e+09       8.000000\n",
       "max    5.142562e+08  5.024576e+09     576.000000"
      ]
     },
     "execution_count": 17,
     "metadata": {},
     "output_type": "execute_result"
    }
   ],
   "source": [
    "# Summary of data\n",
    "ways_nodes.describe(include = 'all')"
   ]
  },
  {
   "cell_type": "code",
   "execution_count": 18,
   "metadata": {
    "collapsed": false
   },
   "outputs": [
    {
     "data": {
      "text/html": [
       "<div>\n",
       "<table border=\"1\" class=\"dataframe\">\n",
       "  <thead>\n",
       "    <tr style=\"text-align: right;\">\n",
       "      <th></th>\n",
       "      <th>id</th>\n",
       "      <th>key</th>\n",
       "      <th>value</th>\n",
       "      <th>type</th>\n",
       "    </tr>\n",
       "  </thead>\n",
       "  <tbody>\n",
       "    <tr>\n",
       "      <th>count</th>\n",
       "      <td>2.064540e+05</td>\n",
       "      <td>206454</td>\n",
       "      <td>206454</td>\n",
       "      <td>206454</td>\n",
       "    </tr>\n",
       "    <tr>\n",
       "      <th>unique</th>\n",
       "      <td>NaN</td>\n",
       "      <td>417</td>\n",
       "      <td>6981</td>\n",
       "      <td>59</td>\n",
       "    </tr>\n",
       "    <tr>\n",
       "      <th>top</th>\n",
       "      <td>NaN</td>\n",
       "      <td>source</td>\n",
       "      <td>yes</td>\n",
       "      <td>regular</td>\n",
       "    </tr>\n",
       "    <tr>\n",
       "      <th>freq</th>\n",
       "      <td>NaN</td>\n",
       "      <td>67526</td>\n",
       "      <td>57788</td>\n",
       "      <td>187285</td>\n",
       "    </tr>\n",
       "    <tr>\n",
       "      <th>mean</th>\n",
       "      <td>1.310392e+08</td>\n",
       "      <td>NaN</td>\n",
       "      <td>NaN</td>\n",
       "      <td>NaN</td>\n",
       "    </tr>\n",
       "    <tr>\n",
       "      <th>std</th>\n",
       "      <td>1.071292e+08</td>\n",
       "      <td>NaN</td>\n",
       "      <td>NaN</td>\n",
       "      <td>NaN</td>\n",
       "    </tr>\n",
       "    <tr>\n",
       "      <th>min</th>\n",
       "      <td>4.017423e+06</td>\n",
       "      <td>NaN</td>\n",
       "      <td>NaN</td>\n",
       "      <td>NaN</td>\n",
       "    </tr>\n",
       "    <tr>\n",
       "      <th>25%</th>\n",
       "      <td>6.885231e+07</td>\n",
       "      <td>NaN</td>\n",
       "      <td>NaN</td>\n",
       "      <td>NaN</td>\n",
       "    </tr>\n",
       "    <tr>\n",
       "      <th>50%</th>\n",
       "      <td>7.783215e+07</td>\n",
       "      <td>NaN</td>\n",
       "      <td>NaN</td>\n",
       "      <td>NaN</td>\n",
       "    </tr>\n",
       "    <tr>\n",
       "      <th>75%</th>\n",
       "      <td>1.315272e+08</td>\n",
       "      <td>NaN</td>\n",
       "      <td>NaN</td>\n",
       "      <td>NaN</td>\n",
       "    </tr>\n",
       "    <tr>\n",
       "      <th>max</th>\n",
       "      <td>5.142562e+08</td>\n",
       "      <td>NaN</td>\n",
       "      <td>NaN</td>\n",
       "      <td>NaN</td>\n",
       "    </tr>\n",
       "  </tbody>\n",
       "</table>\n",
       "</div>"
      ],
      "text/plain": [
       "                  id     key   value     type\n",
       "count   2.064540e+05  206454  206454   206454\n",
       "unique           NaN     417    6981       59\n",
       "top              NaN  source     yes  regular\n",
       "freq             NaN   67526   57788   187285\n",
       "mean    1.310392e+08     NaN     NaN      NaN\n",
       "std     1.071292e+08     NaN     NaN      NaN\n",
       "min     4.017423e+06     NaN     NaN      NaN\n",
       "25%     6.885231e+07     NaN     NaN      NaN\n",
       "50%     7.783215e+07     NaN     NaN      NaN\n",
       "75%     1.315272e+08     NaN     NaN      NaN\n",
       "max     5.142562e+08     NaN     NaN      NaN"
      ]
     },
     "execution_count": 18,
     "metadata": {},
     "output_type": "execute_result"
    }
   ],
   "source": [
    "# Summary of data\n",
    "ways_tags.describe(include = 'all')"
   ]
  },
  {
   "cell_type": "code",
   "execution_count": 19,
   "metadata": {
    "collapsed": false
   },
   "outputs": [
    {
     "data": {
      "text/plain": [
       "RangeIndex(start=0, stop=468049, step=1)"
      ]
     },
     "execution_count": 19,
     "metadata": {},
     "output_type": "execute_result"
    }
   ],
   "source": [
    "# the index values\n",
    "nodes.index"
   ]
  },
  {
   "cell_type": "code",
   "execution_count": 20,
   "metadata": {
    "collapsed": false
   },
   "outputs": [
    {
     "data": {
      "text/plain": [
       "RangeIndex(start=0, stop=67828, step=1)"
      ]
     },
     "execution_count": 20,
     "metadata": {},
     "output_type": "execute_result"
    }
   ],
   "source": [
    "# the index values\n",
    "nodes_tags.index"
   ]
  },
  {
   "cell_type": "code",
   "execution_count": 21,
   "metadata": {
    "collapsed": false
   },
   "outputs": [
    {
     "data": {
      "text/plain": [
       "RangeIndex(start=0, stop=75249, step=1)"
      ]
     },
     "execution_count": 21,
     "metadata": {},
     "output_type": "execute_result"
    }
   ],
   "source": [
    "# the index values\n",
    "ways.index"
   ]
  },
  {
   "cell_type": "code",
   "execution_count": 22,
   "metadata": {
    "collapsed": false
   },
   "outputs": [
    {
     "data": {
      "text/plain": [
       "RangeIndex(start=0, stop=639866, step=1)"
      ]
     },
     "execution_count": 22,
     "metadata": {},
     "output_type": "execute_result"
    }
   ],
   "source": [
    "# the index values\n",
    "ways_nodes.index"
   ]
  },
  {
   "cell_type": "code",
   "execution_count": 23,
   "metadata": {
    "collapsed": false
   },
   "outputs": [
    {
     "data": {
      "text/plain": [
       "RangeIndex(start=0, stop=206454, step=1)"
      ]
     },
     "execution_count": 23,
     "metadata": {},
     "output_type": "execute_result"
    }
   ],
   "source": [
    "# the index values\n",
    "ways_tags.index"
   ]
  },
  {
   "cell_type": "markdown",
   "metadata": {},
   "source": [
    "## Data type, size, missing and duplicated values"
   ]
  },
  {
   "cell_type": "code",
   "execution_count": 24,
   "metadata": {
    "collapsed": false
   },
   "outputs": [
    {
     "name": "stdout",
     "output_type": "stream",
     "text": [
      "<class 'pandas.core.frame.DataFrame'>\n",
      "RangeIndex: 468049 entries, 0 to 468048\n",
      "Data columns (total 8 columns):\n",
      "id           468049 non-null int64\n",
      "lat          468049 non-null float64\n",
      "lon          468049 non-null float64\n",
      "user         468049 non-null object\n",
      "uid          468049 non-null int64\n",
      "version      468049 non-null int64\n",
      "changeset    468049 non-null int64\n",
      "timestamp    468049 non-null object\n",
      "dtypes: float64(2), int64(4), object(2)\n",
      "memory usage: 28.6+ MB\n"
     ]
    }
   ],
   "source": [
    "# Data frame summary \n",
    "nodes.info()"
   ]
  },
  {
   "cell_type": "code",
   "execution_count": 25,
   "metadata": {
    "collapsed": false
   },
   "outputs": [
    {
     "name": "stdout",
     "output_type": "stream",
     "text": [
      "<class 'pandas.core.frame.DataFrame'>\n",
      "RangeIndex: 67828 entries, 0 to 67827\n",
      "Data columns (total 4 columns):\n",
      "id       67828 non-null int64\n",
      "key      67828 non-null object\n",
      "value    67827 non-null object\n",
      "type     67828 non-null object\n",
      "dtypes: int64(1), object(3)\n",
      "memory usage: 2.1+ MB\n"
     ]
    }
   ],
   "source": [
    "# Data frame summary \n",
    "nodes_tags.info()"
   ]
  },
  {
   "cell_type": "code",
   "execution_count": 26,
   "metadata": {
    "collapsed": false
   },
   "outputs": [
    {
     "name": "stdout",
     "output_type": "stream",
     "text": [
      "<class 'pandas.core.frame.DataFrame'>\n",
      "RangeIndex: 75249 entries, 0 to 75248\n",
      "Data columns (total 6 columns):\n",
      "id           75249 non-null int64\n",
      "user         75249 non-null object\n",
      "uid          75249 non-null int64\n",
      "version      75249 non-null int64\n",
      "changeset    75249 non-null int64\n",
      "timestamp    75249 non-null object\n",
      "dtypes: int64(4), object(2)\n",
      "memory usage: 3.4+ MB\n"
     ]
    }
   ],
   "source": [
    "# Data frame summary \n",
    "ways.info()"
   ]
  },
  {
   "cell_type": "code",
   "execution_count": 27,
   "metadata": {
    "collapsed": false
   },
   "outputs": [
    {
     "name": "stdout",
     "output_type": "stream",
     "text": [
      "<class 'pandas.core.frame.DataFrame'>\n",
      "RangeIndex: 639866 entries, 0 to 639865\n",
      "Data columns (total 3 columns):\n",
      "id          639866 non-null int64\n",
      "node_id     639866 non-null int64\n",
      "position    639866 non-null int64\n",
      "dtypes: int64(3)\n",
      "memory usage: 14.6 MB\n"
     ]
    }
   ],
   "source": [
    "# Data frame summary \n",
    "ways_nodes.info()"
   ]
  },
  {
   "cell_type": "code",
   "execution_count": 28,
   "metadata": {
    "collapsed": false
   },
   "outputs": [
    {
     "name": "stdout",
     "output_type": "stream",
     "text": [
      "<class 'pandas.core.frame.DataFrame'>\n",
      "RangeIndex: 206454 entries, 0 to 206453\n",
      "Data columns (total 4 columns):\n",
      "id       206454 non-null int64\n",
      "key      206454 non-null object\n",
      "value    206454 non-null object\n",
      "type     206454 non-null object\n",
      "dtypes: int64(1), object(3)\n",
      "memory usage: 6.3+ MB\n"
     ]
    }
   ],
   "source": [
    "# Data frame summary \n",
    "ways_tags.info()"
   ]
  },
  {
   "cell_type": "code",
   "execution_count": 29,
   "metadata": {
    "collapsed": true
   },
   "outputs": [],
   "source": [
    "# Data Quality Analysis function\n",
    "# i.e. Is there any missing and duplicate value for given feature and given data frame? \n",
    "def dataqualityanalysis(df,feature):\n",
    "    print \"# unique values: \",len(df[feature].unique())\n",
    "    print \"# null values:\",df[feature].isnull().sum()\n",
    "    if len(df.set_index(feature).index.get_duplicates()) > 0:\n",
    "        print \"# duplicates: \", len(df.set_index(feature).index.get_duplicates())\n",
    "        #print \"duplicates are:\\n\"\n",
    "        #print df.set_index(feature).index.get_duplicates()"
   ]
  },
  {
   "cell_type": "code",
   "execution_count": 30,
   "metadata": {
    "collapsed": false
   },
   "outputs": [
    {
     "name": "stdout",
     "output_type": "stream",
     "text": [
      "# unique values:  468049\n",
      "# null values: 0\n"
     ]
    }
   ],
   "source": [
    "# Data Quality Analysis for id feature\n",
    "dataqualityanalysis(nodes,'id')"
   ]
  },
  {
   "cell_type": "code",
   "execution_count": 31,
   "metadata": {
    "collapsed": false,
    "scrolled": false
   },
   "outputs": [
    {
     "name": "stdout",
     "output_type": "stream",
     "text": [
      "# unique values:  59402\n",
      "# null values: 0\n",
      "# duplicates:  49459\n"
     ]
    }
   ],
   "source": [
    "# Data Quality Analysis for timestamp feature\n",
    "dataqualityanalysis(nodes,'timestamp')"
   ]
  },
  {
   "cell_type": "code",
   "execution_count": 32,
   "metadata": {
    "collapsed": false
   },
   "outputs": [
    {
     "data": {
      "text/plain": [
       "Index([u'id', u'key', u'value', u'type'], dtype='object')"
      ]
     },
     "execution_count": 32,
     "metadata": {},
     "output_type": "execute_result"
    }
   ],
   "source": [
    "nodes_tags.columns"
   ]
  },
  {
   "cell_type": "code",
   "execution_count": 33,
   "metadata": {
    "collapsed": false
   },
   "outputs": [
    {
     "name": "stdout",
     "output_type": "stream",
     "text": [
      "# unique values:  23034\n",
      "# null values: 0\n",
      "# duplicates:  16419\n"
     ]
    }
   ],
   "source": [
    "# Data Quality Analysis for id feature\n",
    "dataqualityanalysis(nodes_tags,'id')"
   ]
  },
  {
   "cell_type": "code",
   "execution_count": 34,
   "metadata": {
    "collapsed": false
   },
   "outputs": [
    {
     "name": "stdout",
     "output_type": "stream",
     "text": [
      "# unique values:  409\n",
      "# null values: 0\n",
      "# duplicates:  301\n"
     ]
    }
   ],
   "source": [
    "# Data Quality Analysis for key feature\n",
    "dataqualityanalysis(nodes_tags,'key')"
   ]
  },
  {
   "cell_type": "code",
   "execution_count": 35,
   "metadata": {
    "collapsed": false
   },
   "outputs": [
    {
     "name": "stdout",
     "output_type": "stream",
     "text": [
      "# unique values:  61\n",
      "# null values: 0\n",
      "# duplicates:  42\n"
     ]
    }
   ],
   "source": [
    "# Data Quality Analysis for type feature\n",
    "dataqualityanalysis(nodes_tags,'type')"
   ]
  },
  {
   "cell_type": "markdown",
   "metadata": {},
   "source": [
    "## Features distribution"
   ]
  },
  {
   "cell_type": "code",
   "execution_count": 36,
   "metadata": {
    "collapsed": false
   },
   "outputs": [
    {
     "data": {
      "text/plain": [
       "count    468049.000000\n",
       "mean         48.896212\n",
       "std           0.016636\n",
       "min          48.868817\n",
       "25%          48.881917\n",
       "50%          48.893422\n",
       "75%          48.911936\n",
       "max          48.926030\n",
       "Name: lat, dtype: float64"
      ]
     },
     "execution_count": 36,
     "metadata": {},
     "output_type": "execute_result"
    }
   ],
   "source": [
    "# which sex is the most common?\n",
    "nodes.lat.describe()"
   ]
  },
  {
   "cell_type": "code",
   "execution_count": 37,
   "metadata": {
    "collapsed": false
   },
   "outputs": [
    {
     "data": {
      "text/plain": [
       "id            2.076344\n",
       "lat           0.222263\n",
       "lon          -0.009775\n",
       "uid           5.922689\n",
       "version      12.929524\n",
       "changeset     2.037455\n",
       "dtype: float64"
      ]
     },
     "execution_count": 37,
     "metadata": {},
     "output_type": "execute_result"
    }
   ],
   "source": [
    "nodes.skew()"
   ]
  },
  {
   "cell_type": "code",
   "execution_count": 38,
   "metadata": {
    "collapsed": false
   },
   "outputs": [
    {
     "data": {
      "text/plain": [
       "id           9.039869e+08\n",
       "lat          4.889342e+01\n",
       "lon          2.204238e+00\n",
       "uid          2.101730e+05\n",
       "version      1.000000e+00\n",
       "changeset    5.874774e+06\n",
       "dtype: float64"
      ]
     },
     "execution_count": 38,
     "metadata": {},
     "output_type": "execute_result"
    }
   ],
   "source": [
    "nodes.median()"
   ]
  },
  {
   "cell_type": "code",
   "execution_count": 39,
   "metadata": {
    "collapsed": false
   },
   "outputs": [
    {
     "data": {
      "text/html": [
       "<div>\n",
       "<table border=\"1\" class=\"dataframe\">\n",
       "  <thead>\n",
       "    <tr style=\"text-align: right;\">\n",
       "      <th></th>\n",
       "      <th>id</th>\n",
       "      <th>lat</th>\n",
       "      <th>lon</th>\n",
       "      <th>user</th>\n",
       "      <th>uid</th>\n",
       "      <th>version</th>\n",
       "      <th>changeset</th>\n",
       "      <th>timestamp</th>\n",
       "    </tr>\n",
       "  </thead>\n",
       "  <tbody>\n",
       "    <tr>\n",
       "      <th>0</th>\n",
       "      <td>NaN</td>\n",
       "      <td>48.870833</td>\n",
       "      <td>2.193359</td>\n",
       "      <td>osmmaker</td>\n",
       "      <td>210173</td>\n",
       "      <td>1</td>\n",
       "      <td>9410904</td>\n",
       "      <td>2016-10-11T22:35:33Z</td>\n",
       "    </tr>\n",
       "  </tbody>\n",
       "</table>\n",
       "</div>"
      ],
      "text/plain": [
       "   id        lat       lon      user     uid  version  changeset  \\\n",
       "0 NaN  48.870833  2.193359  osmmaker  210173        1    9410904   \n",
       "\n",
       "              timestamp  \n",
       "0  2016-10-11T22:35:33Z  "
      ]
     },
     "execution_count": 39,
     "metadata": {},
     "output_type": "execute_result"
    }
   ],
   "source": [
    "# What are the most frequent values for each feature\n",
    "nodes.mode()"
   ]
  },
  {
   "cell_type": "code",
   "execution_count": 54,
   "metadata": {
    "collapsed": false
   },
   "outputs": [
    {
     "name": "stdout",
     "output_type": "stream",
     "text": [
      "Summarize about LAT\n",
      "Mean: 48.8962121397\n",
      "Mode: 0    48.870833\n",
      "dtype: float64\n",
      "Median: 48.8934219\n",
      "Standard deviation: 0.0166355953108\n",
      "Minimum: 48.8688172\n",
      "Maximum: 48.9260304\n"
     ]
    },
    {
     "data": {
      "image/png": "[encoded data removed]",
      "text/plain": [
       "<matplotlib.figure.Figure at 0x1967aef0>"
      ]
     },
     "metadata": {},
     "output_type": "display_data"
    }
   ],
   "source": [
    "# Summarize the data for LAT Feature\n",
    "print \"Summarize about LATITUDE (NODES)\"\n",
    "\n",
    "def describe_data(data):\n",
    "    print 'Mean:', data.mean()\n",
    "    print 'Mode:',data.mode()\n",
    "    print 'Median:', data.median()\n",
    "    print 'Standard deviation:', data.std()\n",
    "    print 'Minimum:', data.min()\n",
    "    print 'Maximum:', data.max() \n",
    "\n",
    "\n",
    "describe_data(nodes.lat)\n",
    "\n",
    "sns.boxplot(y=\"lat\", data=nodes)\n",
    "#plt.ylim(48.86, 48.93)\n",
    "plt.ylim(48.8, 49.0)\n",
    "plt.savefig('boxplotNodesLAT.png')"
   ]
  },
  {
   "cell_type": "code",
   "execution_count": 41,
   "metadata": {
    "collapsed": false
   },
   "outputs": [
    {
     "name": "stdout",
     "output_type": "stream",
     "text": [
      "Summarize about LON\n",
      "Mean: 2.20551804937\n",
      "Mode: 0    2.193359\n",
      "dtype: float64\n",
      "Median: 2.2042382\n",
      "Standard deviation: 0.0229961415572\n",
      "Minimum: 2.1608126\n",
      "Maximum: 2.2435477\n"
     ]
    },
    {
     "data": {
      "image/png": "[encoded data removed]",
      "text/plain": [
       "<matplotlib.figure.Figure at 0x1a094198>"
      ]
     },
     "metadata": {},
     "output_type": "display_data"
    }
   ],
   "source": [
    "# Summarize the data for LON feature\n",
    "print \"Summarize about Longitude (Nodes)\"\n",
    "describe_data(nodes.lon)\n",
    "\n",
    "# display the boxplot\n",
    "sns.boxplot(y=\"lon\", data=nodes)\n",
    "plt.savefig('boxplotNodesLON.png')"
   ]
  },
  {
   "cell_type": "code",
   "execution_count": 53,
   "metadata": {
    "collapsed": false
   },
   "outputs": [
    {
     "data": {
      "image/png": "[encoded data removed]",
      "text/plain": [
       "<matplotlib.figure.Figure at 0x19409a20>"
      ]
     },
     "metadata": {},
     "output_type": "display_data"
    }
   ],
   "source": [
    "# Distribution of LAT\n",
    "plt.style.use('seaborn-white')\n",
    "nodes.lat.plot.hist(bins=8)\n",
    "plt.suptitle('Distribution of Latitude (Nodes)')\n",
    "plt.xlabel('lat')\n",
    "plt.ylabel('Frequency')\n",
    "#plt.axis([0, 90, 0, 400])\n",
    "plt.xlim(48.8, 49.0)\n",
    "plt.savefig('NodesLatDistribution.png')\n",
    "plt.show()"
   ]
  },
  {
   "cell_type": "code",
   "execution_count": 55,
   "metadata": {
    "collapsed": false
   },
   "outputs": [
    {
     "data": {
      "image/png": "[encoded data removed]",
      "text/plain": [
       "<matplotlib.figure.Figure at 0x1b869160>"
      ]
     },
     "metadata": {},
     "output_type": "display_data"
    }
   ],
   "source": [
    "# Distribution of LON\n",
    "plt.style.use('seaborn-white')\n",
    "nodes.lon.plot.hist(bins=8)\n",
    "plt.suptitle('Distribution of Longitude (Nodes)')\n",
    "plt.xlabel('lon')\n",
    "plt.ylabel('Frequency')\n",
    "#plt.axis([0, 90, 0, 400])\n",
    "#plt.xlim(48.8, 49.0)\n",
    "plt.savefig('NodesLonDistribution.png')\n",
    "plt.show()"
   ]
  },
  {
   "cell_type": "markdown",
   "metadata": {},
   "source": [
    "## Relation between features"
   ]
  },
  {
   "cell_type": "code",
   "execution_count": 56,
   "metadata": {
    "collapsed": false
   },
   "outputs": [
    {
     "data": {
      "image/png": "[encoded data removed]",
      "text/plain": [
       "<matplotlib.figure.Figure at 0x1b87b9b0>"
      ]
     },
     "metadata": {},
     "output_type": "display_data"
    }
   ],
   "source": [
    "# looking for any relation between the two continous features, if any\n",
    "sns.jointplot(x=\"lon\", y=\"lat\", data=nodes,marker='.')\n",
    "plt.savefig('RelationNodesLonvsLat.png')"
   ]
  }
 ],
 "metadata": {
  "anaconda-cloud": {},
  "kernelspec": {
   "display_name": "Python [conda env:DAND]",
   "language": "python",
   "name": "conda-env-DAND-py"
  },
  "language_info": {
   "codemirror_mode": {
    "name": "ipython",
    "version": 2
   },
   "file_extension": ".py",
   "mimetype": "text/x-python",
   "name": "python",
   "nbconvert_exporter": "python",
   "pygments_lexer": "ipython2",
   "version": "2.7.12"
  }
 },
 "nbformat": 4,
 "nbformat_minor": 2
}
