{
 "cells": [
  {
   "cell_type": "markdown",
   "metadata": {},
   "source": [
    "# The notebook for analysing the Database"
   ]
  },
  {
   "cell_type": "code",
   "execution_count": 1,
   "metadata": {
    "collapsed": true
   },
   "outputs": [],
   "source": [
    "## Libraries \n",
    "%matplotlib inline\n",
    "\n",
    "import numpy as np\n",
    "import matplotlib.pyplot as plt\n",
    "import seaborn as sns\n",
    "import pandas as pd\n",
    "import sqlite3\n",
    "import numpy as np\n"
   ]
  },
  {
   "cell_type": "code",
   "execution_count": 28,
   "metadata": {
    "collapsed": false
   },
   "outputs": [],
   "source": [
    "# location\n",
    "path = 'c:/sqlite-windows/'\n",
    "theDB = 'OSM.db'\n",
    "\n",
    "# the database\n",
    "with sqlite3.connect(path+theDB) as con:\n",
    "    #q = pd.read_sql_query('PRAGMA encoding=\"UTF-8\"', con)\n",
    "    nodes = pd.read_sql_query(\"SELECT * from nodes\", con)   \n",
    "    nodes_tags = pd.read_sql_query(\"SELECT * from nodes_tags\", con)\n",
    "    addr = pd.read_sql_query('SELECT DISTINCT value FROM nodes_tags \\\n",
    "                                WHERE key=\"street\" ORDER BY value LIMIT 20',con)\n",
    "    sch = pd.read_sql_query('SELECT id,key,value FROM nodes_tags, \\\n",
    "                                (SELECT id as idd FROM nodes_tags WHERE value=\"school\") AS subquery \\\n",
    "                                WHERE id = idd AND key= \"name\" ORDER by value',con)\n",
    "    cities = "
   ]
  },
  {
   "cell_type": "code",
   "execution_count": 20,
   "metadata": {
    "collapsed": false,
    "scrolled": true
   },
   "outputs": [
    {
     "data": {
      "text/html": [
       "<div>\n",
       "<table border=\"1\" class=\"dataframe\">\n",
       "  <thead>\n",
       "    <tr style=\"text-align: right;\">\n",
       "      <th></th>\n",
       "      <th>id</th>\n",
       "      <th>lat</th>\n",
       "      <th>lon</th>\n",
       "      <th>user</th>\n",
       "      <th>uid</th>\n",
       "      <th>version</th>\n",
       "      <th>changeset</th>\n",
       "      <th>timestamp</th>\n",
       "    </tr>\n",
       "  </thead>\n",
       "  <tbody>\n",
       "    <tr>\n",
       "      <th>0</th>\n",
       "      <td>644169</td>\n",
       "      <td>48.904907</td>\n",
       "      <td>2.195935</td>\n",
       "      <td>osmmaker</td>\n",
       "      <td>210173</td>\n",
       "      <td>3</td>\n",
       "      <td>26474158</td>\n",
       "      <td>2014-11-01T02:01:56Z</td>\n",
       "    </tr>\n",
       "    <tr>\n",
       "      <th>1</th>\n",
       "      <td>644170</td>\n",
       "      <td>48.906158</td>\n",
       "      <td>2.194022</td>\n",
       "      <td>osmmaker</td>\n",
       "      <td>210173</td>\n",
       "      <td>4</td>\n",
       "      <td>26474158</td>\n",
       "      <td>2014-11-01T02:01:56Z</td>\n",
       "    </tr>\n",
       "    <tr>\n",
       "      <th>2</th>\n",
       "      <td>644171</td>\n",
       "      <td>48.907185</td>\n",
       "      <td>2.192674</td>\n",
       "      <td>jmorais</td>\n",
       "      <td>5404</td>\n",
       "      <td>1</td>\n",
       "      <td>191925</td>\n",
       "      <td>2007-01-11T18:35:55Z</td>\n",
       "    </tr>\n",
       "    <tr>\n",
       "      <th>3</th>\n",
       "      <td>644172</td>\n",
       "      <td>48.909258</td>\n",
       "      <td>2.189542</td>\n",
       "      <td>Marcussacapuces91</td>\n",
       "      <td>37548</td>\n",
       "      <td>2</td>\n",
       "      <td>313659</td>\n",
       "      <td>2008-12-10T22:08:03Z</td>\n",
       "    </tr>\n",
       "    <tr>\n",
       "      <th>4</th>\n",
       "      <td>644173</td>\n",
       "      <td>48.910085</td>\n",
       "      <td>2.187915</td>\n",
       "      <td>Marcussacapuces91</td>\n",
       "      <td>37548</td>\n",
       "      <td>2</td>\n",
       "      <td>568845</td>\n",
       "      <td>2009-02-19T21:41:38Z</td>\n",
       "    </tr>\n",
       "  </tbody>\n",
       "</table>\n",
       "</div>"
      ],
      "text/plain": [
       "       id        lat       lon               user     uid  version  changeset  \\\n",
       "0  644169  48.904907  2.195935           osmmaker  210173        3   26474158   \n",
       "1  644170  48.906158  2.194022           osmmaker  210173        4   26474158   \n",
       "2  644171  48.907185  2.192674            jmorais    5404        1     191925   \n",
       "3  644172  48.909258  2.189542  Marcussacapuces91   37548        2     313659   \n",
       "4  644173  48.910085  2.187915  Marcussacapuces91   37548        2     568845   \n",
       "\n",
       "              timestamp  \n",
       "0  2014-11-01T02:01:56Z  \n",
       "1  2014-11-01T02:01:56Z  \n",
       "2  2007-01-11T18:35:55Z  \n",
       "3  2008-12-10T22:08:03Z  \n",
       "4  2009-02-19T21:41:38Z  "
      ]
     },
     "execution_count": 20,
     "metadata": {},
     "output_type": "execute_result"
    }
   ],
   "source": [
    "nodes.head()"
   ]
  },
  {
   "cell_type": "code",
   "execution_count": 21,
   "metadata": {
    "collapsed": false
   },
   "outputs": [
    {
     "data": {
      "text/html": [
       "<div>\n",
       "<table border=\"1\" class=\"dataframe\">\n",
       "  <thead>\n",
       "    <tr style=\"text-align: right;\">\n",
       "      <th></th>\n",
       "      <th>id</th>\n",
       "      <th>key</th>\n",
       "      <th>value</th>\n",
       "      <th>type</th>\n",
       "    </tr>\n",
       "  </thead>\n",
       "  <tbody>\n",
       "    <tr>\n",
       "      <th>0</th>\n",
       "      <td>644169</td>\n",
       "      <td>ele</td>\n",
       "      <td>31.380127</td>\n",
       "      <td>regular</td>\n",
       "    </tr>\n",
       "    <tr>\n",
       "      <th>1</th>\n",
       "      <td>644169</td>\n",
       "      <td>time</td>\n",
       "      <td>2006-03-18T16:45:21Z</td>\n",
       "      <td>regular</td>\n",
       "    </tr>\n",
       "    <tr>\n",
       "      <th>2</th>\n",
       "      <td>644170</td>\n",
       "      <td>ele</td>\n",
       "      <td>33.302856</td>\n",
       "      <td>regular</td>\n",
       "    </tr>\n",
       "    <tr>\n",
       "      <th>3</th>\n",
       "      <td>644170</td>\n",
       "      <td>time</td>\n",
       "      <td>2006-03-18T16:45:28Z</td>\n",
       "      <td>regular</td>\n",
       "    </tr>\n",
       "    <tr>\n",
       "      <th>4</th>\n",
       "      <td>644171</td>\n",
       "      <td>ele</td>\n",
       "      <td>32.341553</td>\n",
       "      <td>regular</td>\n",
       "    </tr>\n",
       "  </tbody>\n",
       "</table>\n",
       "</div>"
      ],
      "text/plain": [
       "       id   key                 value     type\n",
       "0  644169   ele             31.380127  regular\n",
       "1  644169  time  2006-03-18T16:45:21Z  regular\n",
       "2  644170   ele             33.302856  regular\n",
       "3  644170  time  2006-03-18T16:45:28Z  regular\n",
       "4  644171   ele             32.341553  regular"
      ]
     },
     "execution_count": 21,
     "metadata": {},
     "output_type": "execute_result"
    }
   ],
   "source": [
    "nodes_tags.head()"
   ]
  },
  {
   "cell_type": "code",
   "execution_count": 22,
   "metadata": {
    "collapsed": false
   },
   "outputs": [
    {
     "data": {
      "text/html": [
       "<div>\n",
       "<table border=\"1\" class=\"dataframe\">\n",
       "  <thead>\n",
       "    <tr style=\"text-align: right;\">\n",
       "      <th></th>\n",
       "      <th>value</th>\n",
       "    </tr>\n",
       "  </thead>\n",
       "  <tbody>\n",
       "    <tr>\n",
       "      <th>0</th>\n",
       "      <td>Allée Henri Wallon</td>\n",
       "    </tr>\n",
       "    <tr>\n",
       "      <th>1</th>\n",
       "      <td>Allée Jacques Prévert</td>\n",
       "    </tr>\n",
       "    <tr>\n",
       "      <th>2</th>\n",
       "      <td>Allée Jean Baptiste Lamarck</td>\n",
       "    </tr>\n",
       "    <tr>\n",
       "      <th>3</th>\n",
       "      <td>Allée Jules Ferry</td>\n",
       "    </tr>\n",
       "    <tr>\n",
       "      <th>4</th>\n",
       "      <td>Allée Marie Curie</td>\n",
       "    </tr>\n",
       "    <tr>\n",
       "      <th>5</th>\n",
       "      <td>Allée René Descartes</td>\n",
       "    </tr>\n",
       "    <tr>\n",
       "      <th>6</th>\n",
       "      <td>Allée de l'Arche</td>\n",
       "    </tr>\n",
       "    <tr>\n",
       "      <th>7</th>\n",
       "      <td>Allée des 3 musiciens</td>\n",
       "    </tr>\n",
       "    <tr>\n",
       "      <th>8</th>\n",
       "      <td>Avenue Albert 1er</td>\n",
       "    </tr>\n",
       "    <tr>\n",
       "      <th>9</th>\n",
       "      <td>Avenue Botticelli</td>\n",
       "    </tr>\n",
       "    <tr>\n",
       "      <th>10</th>\n",
       "      <td>Avenue Carnot</td>\n",
       "    </tr>\n",
       "    <tr>\n",
       "      <th>11</th>\n",
       "      <td>Avenue Charles de Gaulle</td>\n",
       "    </tr>\n",
       "    <tr>\n",
       "      <th>12</th>\n",
       "      <td>Avenue Franklin Roosevelt</td>\n",
       "    </tr>\n",
       "    <tr>\n",
       "      <th>13</th>\n",
       "      <td>Avenue François Arago</td>\n",
       "    </tr>\n",
       "    <tr>\n",
       "      <th>14</th>\n",
       "      <td>Avenue Frédéric et Irène Joliot Curie</td>\n",
       "    </tr>\n",
       "    <tr>\n",
       "      <th>15</th>\n",
       "      <td>Avenue Félix Faure</td>\n",
       "    </tr>\n",
       "    <tr>\n",
       "      <th>16</th>\n",
       "      <td>Avenue Gabriel Péri</td>\n",
       "    </tr>\n",
       "    <tr>\n",
       "      <th>17</th>\n",
       "      <td>Avenue Gambetta</td>\n",
       "    </tr>\n",
       "    <tr>\n",
       "      <th>18</th>\n",
       "      <td>Avenue Georges Clemenceau</td>\n",
       "    </tr>\n",
       "    <tr>\n",
       "      <th>19</th>\n",
       "      <td>Avenue Georges Clémenceau</td>\n",
       "    </tr>\n",
       "  </tbody>\n",
       "</table>\n",
       "</div>"
      ],
      "text/plain": [
       "                                    value\n",
       "0                      Allée Henri Wallon\n",
       "1                   Allée Jacques Prévert\n",
       "2             Allée Jean Baptiste Lamarck\n",
       "3                       Allée Jules Ferry\n",
       "4                       Allée Marie Curie\n",
       "5                    Allée René Descartes\n",
       "6                        Allée de l'Arche\n",
       "7                   Allée des 3 musiciens\n",
       "8                       Avenue Albert 1er\n",
       "9                       Avenue Botticelli\n",
       "10                          Avenue Carnot\n",
       "11               Avenue Charles de Gaulle\n",
       "12              Avenue Franklin Roosevelt\n",
       "13                  Avenue François Arago\n",
       "14  Avenue Frédéric et Irène Joliot Curie\n",
       "15                     Avenue Félix Faure\n",
       "16                    Avenue Gabriel Péri\n",
       "17                        Avenue Gambetta\n",
       "18              Avenue Georges Clemenceau\n",
       "19              Avenue Georges Clémenceau"
      ]
     },
     "execution_count": 22,
     "metadata": {},
     "output_type": "execute_result"
    }
   ],
   "source": [
    "addr.head(20)"
   ]
  },
  {
   "cell_type": "code",
   "execution_count": 29,
   "metadata": {
    "collapsed": false
   },
   "outputs": [
    {
     "name": "stdout",
     "output_type": "stream",
     "text": [
      "            id   key                                              value\n",
      "0   3921975998  name                                  Collège Jean Macé\n",
      "1    275563810  name                              Collège Les Martinets\n",
      "2   2174740055  name                                  Collège Malmaison\n",
      "3   3765893786  name                              Collège Marcel Pagnol\n",
      "4   1909985251  name                        Collège les Champs Philippe\n",
      "5    163727960  name                                     Crèche du Parc\n",
      "6   4514556390  name                                              ESSEC\n",
      "7   2388836766  name                         Groupe scolaire Tuck Stell\n",
      "8    560160040  name                           Institut Medico-Éducatif\n",
      "9   3765693115  name                                Lycée Paul Langevin\n",
      "10  2102923751  name                    Lycée des métiers Louis Blériot\n",
      "11  3765893787  name  Lycée polyvalent Gustave Eiffel, lycée des mét...\n",
      "12  1909981363  name       Lycée professionnel des métiers La Tournelle\n",
      "13  3765893792  name  Section d'enseignement professionnel du lycée ...\n",
      "14  1861381705  name  Section d'enseignement professionnel du lycée ...\n",
      "15  1827854711  name                                 École Claude Monet\n",
      "16  3778783081  name                  École Elémentaire Charles Péguy B\n",
      "17  3778783079  name                     École Maternelle Charles Péguy\n",
      "18  2112602760  name             École Noor Inayat Khan, dite Madeleine\n",
      "19  3778783080  name                     École Primaire Charles Péguy A\n",
      "20  1947350751  name                     École maternelle Auguste Rodin\n",
      "21  3062780744  name                 École maternelle Cité de l'enfance\n",
      "22  1325227101  name                      École maternelle Défense 2000\n",
      "23   227420647  name                        École maternelle Félix Pyat\n",
      "24   767421017  name                  École maternelle Honoré de Balzac\n",
      "25   275563938  name                     École maternelle Les Martinets\n",
      "26  2147177945  name                       École maternelle Paquerettes\n",
      "27  4212377829  name       École maternelle et élémentaire des Cottages\n",
      "28  3766019686  name                        École primaire La Malmaison\n",
      "29   275563791  name                        École primaire Les Trianons\n",
      "30  1909987138  name                          École primaire René Guest\n",
      "31  3765894767  name               École primaire publique Albert Camus\n",
      "32   471197050  name                 École Élementaire des Bons Raisins\n",
      "33   767421011  name                           École Élémentaire Balzac\n",
      "34  1947350752  name                    École élémentaire Auguste Rodin\n",
      "35  1952633205  name                  École élémentaire Bertie Albrecht\n",
      "36   275563525  name                      École élémentaire Jules Ferry\n",
      "37  4532161701  name                       École élémentaire République\n"
     ]
    }
   ],
   "source": [
    "# All schools names\n",
    "print sch"
   ]
  },
  {
   "cell_type": "code",
   "execution_count": null,
   "metadata": {
    "collapsed": true
   },
   "outputs": [],
   "source": []
  }
 ],
 "metadata": {
  "kernelspec": {
   "display_name": "Python [conda env:DAND]",
   "language": "python",
   "name": "conda-env-DAND-py"
  },
  "language_info": {
   "codemirror_mode": {
    "name": "ipython",
    "version": 2
   },
   "file_extension": ".py",
   "mimetype": "text/x-python",
   "name": "python",
   "nbconvert_exporter": "python",
   "pygments_lexer": "ipython2",
   "version": "2.7.12"
  }
 },
 "nbformat": 4,
 "nbformat_minor": 2
}
